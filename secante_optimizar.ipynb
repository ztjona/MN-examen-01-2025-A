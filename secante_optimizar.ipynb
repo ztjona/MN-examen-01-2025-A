{
 "cells": [
  {
   "cell_type": "markdown",
   "metadata": {},
   "source": [
    "# Método de la secante"
   ]
  },
  {
   "cell_type": "code",
   "execution_count": 1,
   "metadata": {},
   "outputs": [],
   "source": [
    "def secant_method(f, x0, x1, tol=1e-6, max_iter=100):\n",
    "    \"\"\"\n",
    "    Secant method for finding the root of a function.\n",
    "\n",
    "    # Parameters\n",
    "    * ``f``: The function for which to find the root.\n",
    "    * ``x0``, x1: Initial guesses for the root.\n",
    "    * ``tol``: Tolerance for convergence (default: 1e-6).\n",
    "    * ``max_iter``: Maximum number of iterations (default: 100).\n",
    "\n",
    "    # Returns\n",
    "    * ``x_curr`` The approximate root of the function.\n",
    "    * ``iter_count`` The number of iterations taken.\n",
    "    \"\"\"\n",
    "    x_prev = x0\n",
    "    x_curr = x1\n",
    "    iter_count = 0\n",
    "\n",
    "    while abs(f(x_curr)) > tol and iter_count < max_iter:\n",
    "        x_next = x_curr - f(x_curr) * (x_curr - x_prev) / (f(x_curr) - f(x_prev))\n",
    "        x_prev = x_curr\n",
    "        x_curr = x_next\n",
    "        iter_count += 1\n",
    "\n",
    "    return x_curr, iter_count"
   ]
  },
  {
   "cell_type": "code",
   "execution_count": 2,
   "metadata": {},
   "outputs": [
    {
     "name": "stdout",
     "output_type": "stream",
     "text": [
      "Llamada i=1\t x=3.00000\t y=2.00\n",
      "Llamada i=2\t x=3.00000\t y=2.00\n",
      "Llamada i=3\t x=3.00000\t y=2.00\n",
      "Llamada i=4\t x=2.00000\t y=-3.00\n",
      "Llamada i=5\t x=2.60000\t y=-1.10\n",
      "Llamada i=6\t x=2.60000\t y=-1.10\n",
      "Llamada i=7\t x=2.60000\t y=-1.10\n",
      "Llamada i=8\t x=3.00000\t y=2.00\n",
      "Llamada i=9\t x=2.74227\t y=-0.20\n",
      "Llamada i=10\t x=2.74227\t y=-0.20\n",
      "Llamada i=11\t x=2.74227\t y=-0.20\n",
      "Llamada i=12\t x=2.60000\t y=-1.10\n",
      "Llamada i=13\t x=2.77296\t y=0.03\n",
      "Llamada i=14\t x=2.77296\t y=0.03\n",
      "Llamada i=15\t x=2.77296\t y=0.03\n",
      "Llamada i=16\t x=2.74227\t y=-0.20\n",
      "Llamada i=17\t x=2.76922\t y=-0.00\n",
      "Llamada i=18\t x=2.76922\t y=-0.00\n",
      "Llamada i=19\t x=2.76922\t y=-0.00\n",
      "Llamada i=20\t x=2.77296\t y=0.03\n",
      "Llamada i=21\t x=2.76929\t y=-0.00\n",
      "Llamada i=22\t x=2.76929\t y=-0.00\n",
      "Llamada i=23\t x=2.76929\t y=-0.00\n",
      "Llamada i=24\t x=2.76922\t y=-0.00\n",
      "Llamada i=25\t x=2.76929\t y=0.00\n"
     ]
    },
    {
     "data": {
      "text/plain": [
       "(2.7692923542484045, 6)"
      ]
     },
     "execution_count": 2,
     "metadata": {},
     "output_type": "execute_result"
    }
   ],
   "source": [
    "i = 0\n",
    "\n",
    "\n",
    "def func(x):\n",
    "    global i\n",
    "    i += 1\n",
    "    y = x**3 - 3 * x**2 + x - 1\n",
    "    print(f\"Llamada i={i}\\t x={x:.5f}\\t y={y:.2f}\")\n",
    "    return y\n",
    "\n",
    "\n",
    "secant_method(func, x0=2, x1=3)"
   ]
  },
  {
   "cell_type": "code",
   "execution_count": null,
   "metadata": {},
   "outputs": [],
   "source": []
  }
 ],
 "metadata": {
  "kernelspec": {
   "display_name": "Python 3",
   "language": "python",
   "name": "python3"
  },
  "language_info": {
   "codemirror_mode": {
    "name": "ipython",
    "version": 3
   },
   "file_extension": ".py",
   "mimetype": "text/x-python",
   "name": "python",
   "nbconvert_exporter": "python",
   "pygments_lexer": "ipython3",
   "version": "3.10.11"
  }
 },
 "nbformat": 4,
 "nbformat_minor": 2
}
